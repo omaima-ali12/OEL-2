{
 "cells": [
  {
   "cell_type": "code",
   "execution_count": 14,
   "id": "d42e1aff-7b34-4141-ae10-8a242d5fdc65",
   "metadata": {},
   "outputs": [
    {
     "ename": "UnboundLocalError",
     "evalue": "cannot access local variable 'p_lenth' where it is not associated with a value",
     "output_type": "error",
     "traceback": [
      "\u001b[1;31m---------------------------------------------------------------------------\u001b[0m",
      "\u001b[1;31mUnboundLocalError\u001b[0m                         Traceback (most recent call last)",
      "Cell \u001b[1;32mIn[14], line 22\u001b[0m\n\u001b[0;32m     20\u001b[0m \u001b[38;5;28;01mif\u001b[39;00m \u001b[38;5;18m__name__\u001b[39m \u001b[38;5;241m==\u001b[39m \u001b[38;5;124m'\u001b[39m\u001b[38;5;124m__main__\u001b[39m\u001b[38;5;124m'\u001b[39m:\n\u001b[0;32m     21\u001b[0m     input_s \u001b[38;5;241m=\u001b[39m \u001b[38;5;124m\"\u001b[39m\u001b[38;5;124mabccccdd\u001b[39m\u001b[38;5;124m\"\u001b[39m\n\u001b[1;32m---> 22\u001b[0m     \u001b[38;5;28mprint\u001b[39m(\u001b[38;5;124m\"\u001b[39m\u001b[38;5;124minput :\u001b[39m\u001b[38;5;124m\"\u001b[39m  , input_s, \u001b[38;5;124m\"\u001b[39m\u001b[38;5;124moutput : \u001b[39m\u001b[38;5;124m\"\u001b[39m ,longest_palindrome(input_s))\n\u001b[0;32m     23\u001b[0m     input_s2 \u001b[38;5;241m=\u001b[39m \u001b[38;5;124m\"\u001b[39m\u001b[38;5;124mabba\u001b[39m\u001b[38;5;124m\"\u001b[39m\n\u001b[0;32m     24\u001b[0m     \u001b[38;5;28mprint\u001b[39m(\u001b[38;5;124m\"\u001b[39m\u001b[38;5;124minput: \u001b[39m\u001b[38;5;124m\"\u001b[39m , input_s2, \u001b[38;5;124m\"\u001b[39m\u001b[38;5;124moutput : \u001b[39m\u001b[38;5;124m\"\u001b[39m ,longest_palindrome(input_s2))\n",
      "Cell \u001b[1;32mIn[14], line 15\u001b[0m, in \u001b[0;36mlongest_palindrome\u001b[1;34m(s)\u001b[0m\n\u001b[0;32m     13\u001b[0m         p_length \u001b[38;5;241m+\u001b[39m\u001b[38;5;241m=\u001b[39m count        \u001b[38;5;66;03m# increement palindrome length\u001b[39;00m\n\u001b[0;32m     14\u001b[0m     \u001b[38;5;28;01melse\u001b[39;00m:\n\u001b[1;32m---> 15\u001b[0m         p_lenth \u001b[38;5;241m+\u001b[39m\u001b[38;5;241m=\u001b[39m count \u001b[38;5;241m-\u001b[39m \u001b[38;5;241m1\u001b[39m    \u001b[38;5;66;03m# if count is odd then we are marking that an odd find exist\u001b[39;00m\n\u001b[0;32m     16\u001b[0m         odd_num_find \u001b[38;5;241m=\u001b[39m \u001b[38;5;28;01mTrue\u001b[39;00m\n\u001b[0;32m     17\u001b[0m \u001b[38;5;28;01mif\u001b[39;00m odd_num_find:          \u001b[38;5;66;03m# if there was any odd find then add 1 to the palindrome length for he centre char\u001b[39;00m\n",
      "\u001b[1;31mUnboundLocalError\u001b[0m: cannot access local variable 'p_lenth' where it is not associated with a value"
     ]
    }
   ],
   "source": [
    "def longest_palindrome(s):\n",
    "    char_count = {} # making dictionary to count the letters of string that how many times a string appears\n",
    "    for char in s:\n",
    "        # loop for traversing each character in length\n",
    "        if char in char_count:\n",
    "            char_count[char] += 1    # increement count if char is already in dictionary\n",
    "        else:\n",
    "            char_count[char] = 1     # initialize the count if char is not in the length\n",
    "        p_length = 0                  # variable to store the length of palindrome\n",
    "        odd_num_find = False              # using boolean value to flag false if odd found\n",
    "        for count in char_count.values(): # loop for iterating over the char to check the count of each character\n",
    "            if count % 2 == 0:           # if count is even then we are adding it to the palindrome length\n",
    "                p_length += count        # increement palindrome length\n",
    "            else:\n",
    "                p_lenth += count - 1    # if count is odd then we are marking that an odd find exist\n",
    "                odd_num_find = True\n",
    "        if odd_num_find:          # if there was any odd find then add 1 to the palindrome length for he centre char\n",
    "            p_length += 1         # now increementing the palindrome length if odd find\n",
    "        return p_length           # returning the length of palindrome\n",
    "if __name__ == '__main__':\n",
    "    input_s = \"abccccdd\"\n",
    "    print(\"input :\"  , input_s, \"output : \" ,longest_palindrome(input_s))\n",
    "    input_s2 = \"abba\"\n",
    "    print(\"input: \" , input_s2, \"output : \" ,longest_palindrome(input_s2))\n",
    "    \n",
    "\n",
    "\n",
    "            \n",
    "   \n",
    "    \n",
    "    "
   ]
  },
  {
   "cell_type": "code",
   "execution_count": null,
   "id": "384dd541-5d3a-4aef-90c8-4b36a4b53222",
   "metadata": {},
   "outputs": [],
   "source": []
  },
  {
   "cell_type": "code",
   "execution_count": 24,
   "id": "3ba0d8ac-ab0b-445b-9fc7-5f543083af02",
   "metadata": {},
   "outputs": [
    {
     "name": "stdout",
     "output_type": "stream",
     "text": [
      "input : abcccdd output :  7\n",
      "input:  abba output :  4\n"
     ]
    }
   ],
   "source": [
    "def longest_palindrome(s):\n",
    "    char_count = {} # making dictionary to count the letters of string that how many times a string appears\n",
    "    for char in s:\n",
    "        # loop for traversing each character in length\n",
    "        if char in char_count:\n",
    "            char_count[char] += 1    # increement count if char is already in dictionary\n",
    "        else:\n",
    "            char_count[char] = 1     # initialize the count if char is not in the length\n",
    "        p_length = 0                  # variable to store the length of palindrome\n",
    "        odd_num_find = False              # using boolean value to flag false if odd found\n",
    "    for count in char_count.values(): # loop for iterating over the char to check the count of each character\n",
    "        if count % 2 == 0:           # if count is even then we are adding it to the palindrome length\n",
    "            p_length += count        # increement palindrome length\n",
    "        else:\n",
    "            p_length += count - 1    # if count is odd then we are marking that an odd find exist\n",
    "            odd_num_find = True\n",
    "            if odd_num_find:          # if there was any odd find then add 1 to the palindrome length for he centre char\n",
    "                p_length += 1         # now increementing the palindrome length if odd find\n",
    "    return p_length           # returning the length of palindrome\n",
    "if __name__ == '__main__':\n",
    "    input_s = \"abcccdd\"         # checking an example to check if the string is palindrome and print the palindrome length\n",
    "    print(\"input :\"  , input_s, \"output : \" ,longest_palindrome(input_s))\n",
    "    input_s2 = \"abba\"           # checking another example\n",
    "    print(\"input: \" , input_s2, \"output : \" ,longest_palindrome(input_s2))\n",
    "    "
   ]
  }
 ],
 "metadata": {
  "kernelspec": {
   "display_name": "Python [conda env:base] *",
   "language": "python",
   "name": "conda-base-py"
  },
  "language_info": {
   "codemirror_mode": {
    "name": "ipython",
    "version": 3
   },
   "file_extension": ".py",
   "mimetype": "text/x-python",
   "name": "python",
   "nbconvert_exporter": "python",
   "pygments_lexer": "ipython3",
   "version": "3.12.7"
  }
 },
 "nbformat": 4,
 "nbformat_minor": 5
}
